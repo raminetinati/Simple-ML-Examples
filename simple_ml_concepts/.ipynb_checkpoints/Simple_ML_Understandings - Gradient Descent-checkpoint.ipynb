{
 "cells": [
  {
   "cell_type": "markdown",
   "metadata": {},
   "source": [
    "# Simple Machine Learning Concepts\n",
    "\n",
    "In this notebook we're going to explore some simple concepts for machine learning, and then apply them to understand how the basic Regression and Classification algorithms work: Linear Regression, and Logisitic Regression.\n"
   ]
  },
  {
   "attachments": {
    "image.png": {
     "image/png": "[encoded data removed]"
    }
   },
   "cell_type": "markdown",
   "metadata": {},
   "source": [
    "## Graphs and Equation of a Line\n",
    "\n",
    "Let's first explore the basic building blocks which we need to visit before we talk about anything related to machine learning.\n",
    "\n",
    "**Data**\n",
    "\n",
    "For our example, we have a dataset which has an input feature: X, and an output: Y\n",
    "\n",
    "| X | Y |\n",
    "|---|---|\n",
    "| 1 | 1 |\n",
    "| 2 | 2 | \n",
    "| 3 | 3 |\n",
    "\n",
    "Let's look what it looks like if we plot this simple data, and then draw a line through those points.\n",
    "\n",
    "![image.png](attachment:image.png)\n",
    "\n",
    "As expected, it's a line that goes through the points (1,1), (2,2), (3,3). \n",
    "\n",
    "**Equation of the Line**\n",
    "\n",
    "When we have something as simple as the data above, we can quite quickly plot a line through the points by estimating the best position of the line. \n",
    "\n",
    "Without realising it, when you plot that line, or even, plot the graph, what you're actually describing is a relationship between the X and the Y columns. This is the Equation of the line.\n",
    "\n",
    "For our example, we can see that for every X value, the Y value is the same. So, our equation of the line is:\n",
    "\n",
    "```Y = X ``` Super Simple! \n",
    "\n",
    "However, we can define a more general equation of a straight line, which looks like:\n",
    "\n",
    "```Y = mX + C``` where m is the gradient of the line, and C is the Y value whuch it crosses the X axis at 0.\n",
    "\n",
    "\n",
    "Even if you've never seen this equation before, let's build the intuition to understand how this works.\n",
    "\n",
    "Let's now take our data, and multiply the Y column by 2:\n",
    "\n",
    "| X | Y |\n",
    "|---|---|\n",
    "| 1 | 2 |\n",
    "| 2 | 4 | \n",
    "| 3 | 6 |\n",
    "\n",
    "This means that what ever the X value is, the Y value is double this, hence our new Equation of the Line is:\n",
    "\n",
    "```y = 2x + 0``` The + 0 comes about as this is our C value of 0\n",
    "\n",
    "\n",
    "This is really good when we can quickly indentify the equation of the line, however, what happens when it's not so simple to define the equation of the line, because there are lots of data points, or a line cannot go through all the data points in a straight line?\n",
    "\n",
    "We need to find a way to approximate the *line of best fit*, or more generally, our regression line \n"
   ]
  },
  {
   "attachments": {
    "image.png": {
     "image/png": "[encoded data removed]"
    }
   },
   "cell_type": "markdown",
   "metadata": {},
   "source": [
    "## Cost Functions\n",
    "\n",
    "So as we now know the equation of the line is simply a method of mapping the inputs to the output values of some tabular data, how do we find a line of best fit when we can't easily find the equation of the line because the data is too big or messy?\n",
    "\n",
    "We need to use a cost function, which is simply a fancy way of saying a method which allows us to find the line of best fit.\n",
    "\n",
    "Say we have the new data which has a plot such as:\n",
    "\n",
    "![image.png](attachment:image.png)\n",
    "\n",
    "If we were to find the line of best fit, compared to our previous example where the straight line wen't through all the points, in this example our line of best fit would be a line which goes through as many of the points as poissible, or where the distance between the points and the line is as small as possible.\n",
    "\n",
    "It turns out, this is a cost function, where we're trying to minimize the distance between the points and the line.\n",
    "\n",
    "For this example, we're looking at a cost function called: Mean Square Error.\n",
    "\n",
    "\\begin{aligned}\n",
    "\\operatorname {MSE} ={\\frac {1}{n}}\\sum _{i=1}^{n}(Y_{i}-{\\hat {Y_{i}}})^{2}.\n",
    "\\end{aligned}\n",
    "\n",
    "**All this states is:**\n",
    "\n",
    "The mean of the square of errors, which means that we measure the distance from the data point and the line, and then add them all up, and divide by the total number of data points in our dataset.\n",
    "\n",
    "So going back to our example, if we have the MSE cost function, we first generate a random line of best fit, calculate the error from that line, and then decide whether that error is too big or small, and depending on our requirements, adjust our line again to see if we can minimize the error. \n",
    "\n",
    "Again, it's super important to understand at what point we need to reduce this MSE value, because, in most cases, the more you reduce the error, the less generalizable the model is..More on that later!\n",
    "\n"
   ]
  },
  {
   "cell_type": "markdown",
   "metadata": {},
   "source": [
    "## Minimizing Cost Using Gradient Descent \n",
    "\n",
    "Ok, so now we need a computationally efficient way to generate this line of best fit, we don't want to just randomly assign values to ```m``` and ```c``` and see if we can reduce the error.\n",
    "\n",
    "Through Intuition, we know that as the cost is reducing, we're starting to generate a better line of best fit for our data points, which means our *model* contains less error (Remember, we're using Mean Square Error (MSE) to measure error.\n",
    "\n",
    "So one way would be to use the reduction in the cost function as a way to adjust the ```m``` and ```c``` values. To do this, we need to understand that there is a relationship between the gradient of the cost functions graph (see below), and the way we can reduce the error.\n",
    "\n",
    "In order to obtain the gradient of the graph, we need to do a little bit of math **scary terms - partial deriviatives**, but this simply allows us to determine the gradient of the line at a given point, and then use this to generate new ```m``` and ```c``` values.\n",
    "\n",
    "\n",
    "For now, we're not going to need to know how to derive the partial deriviatives from our cost function, but we we need ot know that the gradients of `m` and `c` are caculated  by:\n",
    "\n",
    "\\begin{aligned}\n",
    "f'(m,b) = \n",
    "     \\begin{bmatrix}\n",
    "       \\frac{df}{dm} \\\\\n",
    "       \\frac{df}{db} \\\\\n",
    "       \\end{bmatrix} =\n",
    "     \\begin{bmatrix}\n",
    "       \\frac{1}{N} \\sum -2x_i(y_i - (mx_i + b)) \\\\\n",
    "       \\frac{1}{N} \\sum -2(y_i - (mx_i + b)) \\\\\n",
    "      \\end{bmatrix}\n",
    "\\end{aligned}\n",
    "\n",
    "\n",
    "We then we recalcuate the y^ values, and see if the cost (MSE) has reduced. At each step we want to ensure the cost value is reducing, and the rate at which we step between points is determined by a multiplier called ```learning rate```. \n",
    "\n",
    "\n",
    "First let's begin with the understanding.\n",
    "\n",
    "The following Pseducode represents the general algorithm for Gradient Descent:\n",
    "\n",
    "\n",
    "```pseudo\n",
    "1. Initialize weights (m), bias (c) to random number (usually 0)\n",
    "2. For (number of epochs):\n",
    "    \n",
    "    y_hat: generative predictions using function of line (e.g. y = mx + c)\n",
    "    cost: calcuate the cost with new predictions\n",
    "    \n",
    "    for N samples in dataset:\n",
    "        #calcuate derivatives\n",
    "        d_m: calculate partial derivative with respect to m\n",
    "        d_c: calculate partial derivative with respect to c\n",
    "    end for\n",
    "    \n",
    "    #update weights and bias by derivatives and learning_rate\n",
    "    m: m - learning_rate * d_m\n",
    "    c: c - learning_rate * c_c\n",
    "   end For\n",
    "   \n",
    "   return m, c\n",
    "    \n",
    "```    \n",
    "\n",
    "With respects to the number of times we loop and generate the improved score, it depends on whether we're improving in terms of our cost function, which is related to a series of factors (we don't need to worrry about this right now).\n",
    "\n",
    "Once we've got our new ```m``` and ```c``` values, we're ready to use this to predict new values"
   ]
  },
  {
   "cell_type": "markdown",
   "metadata": {},
   "source": [
    "# Gradient Descent Example\n",
    "\n",
    "In the following Example we're going to take the concepts and apply them with the MSE cost function"
   ]
  },
  {
   "cell_type": "code",
   "execution_count": 11,
   "metadata": {},
   "outputs": [
    {
     "name": "stdout",
     "output_type": "stream",
     "text": [
      "Making Data with the following Linear Equation: y = 3x + 1\n"
     ]
    },
    {
     "data": {
      "image/png": "[encoded data removed]",
      "text/plain": [
       "<Figure size 432x288 with 1 Axes>"
      ]
     },
     "metadata": {
      "needs_background": "light"
     },
     "output_type": "display_data"
    },
    {
     "name": "stdout",
     "output_type": "stream",
     "text": [
      "Weight: +0.03, Bias: +0.00 Cost: +461.69. Epochs: 0\n",
      "Weight: +0.28, Bias: +0.04 Cost: +394.63. Epochs: 10\n",
      "Weight: +0.52, Bias: +0.08 Cost: +337.35. Epochs: 20\n",
      "Weight: +0.74, Bias: +0.11 Cost: +288.43. Epochs: 30\n",
      "Weight: +0.94, Bias: +0.14 Cost: +246.65. Epochs: 40\n",
      "Weight: +1.13, Bias: +0.17 Cost: +210.97. Epochs: 50\n",
      "Weight: +1.30, Bias: +0.19 Cost: +180.50. Epochs: 60\n",
      "Weight: +1.46, Bias: +0.22 Cost: +154.48. Epochs: 70\n",
      "Weight: +1.61, Bias: +0.24 Cost: +132.25. Epochs: 80\n",
      "Weight: +1.75, Bias: +0.26 Cost: +113.27. Epochs: 90\n"
     ]
    },
    {
     "data": {
      "image/png": "[encoded data removed]",
      "text/plain": [
       "<Figure size 432x288 with 1 Axes>"
      ]
     },
     "metadata": {
      "needs_background": "light"
     },
     "output_type": "display_data"
    }
   ],
   "source": [
    "import numpy as np\n",
    "import random\n",
    "import matplotlib.pyplot as plt \n",
    "from mpl_toolkits import mplot3d\n",
    "\n",
    "def make_data(n=100, m=2.5, c=1):\n",
    "    \n",
    "    x = np.arange(1,n+1,1)\n",
    "    y = []\n",
    "    \n",
    "    for i in range(0,n):\n",
    "        tmp = (m*x[i] + c) + (random.randrange(10))\n",
    "#         print(x[i], tmp)\n",
    "        y.append(tmp)\n",
    "    \n",
    "#     print(len(x),len(y))\n",
    "    return x, y\n",
    "\n",
    "def display_model_and_regression(X,y,m,c):\n",
    "    Y_pred = m*X + c\n",
    "\n",
    "    plt.scatter(X, y) \n",
    "    plt.plot([min(X), max(X)], [min(Y_pred), max(Y_pred)], color='red')  # regression line\n",
    "    plt.show()\n",
    "    \n",
    "def display_model_cost(cost_history):\n",
    "    \n",
    "    cost = list(cost_history.values())\n",
    "    itrs = list(cost_history.keys())\n",
    "    plt.plot(itrs, cost)\n",
    "    plt.show()\n",
    "\n",
    "def cost_function(X, y, m, c):\n",
    "    datapoints = len(X)\n",
    "    total_error = 0.0\n",
    "    for i in range(datapoints):\n",
    "        total_error += (y[i] - (m*X[i] + c))**2\n",
    "        \n",
    "    return total_error / datapoints\n",
    "\n",
    "        \n",
    "def update_weights(X, y, m, c, learning_rate):\n",
    "    m_deriv = 0\n",
    "    c_deriv = 0\n",
    "    datapoints = len(X)\n",
    "\n",
    "    for i in range(datapoints):\n",
    "        # Calculate partial derivatives\n",
    "        # -2x(y - (mx + b))\n",
    "        m_deriv += -2*X[i] * (y[i] - (m*X[i] + c))\n",
    "\n",
    "        # -2(y - (mx + b))\n",
    "        c_deriv += -2*(y[i] - (m*X[i] + c))\n",
    "\n",
    "    # We subtract because the derivatives point in direction of steepest ascent\n",
    "    m -= (m_deriv / datapoints) * learning_rate\n",
    "    c -= (c_deriv / datapoints) * learning_rate\n",
    "\n",
    "    return m, c\n",
    "\n",
    "\n",
    "\n",
    "def gradient_descent(X, y, learning_rate=0.0001, epochs=100):\n",
    "\n",
    "    m = 0\n",
    "    c = 0\n",
    "    n = len(X)\n",
    "    cost_history = {}\n",
    "    for i in range(epochs): \n",
    "        \n",
    "        m,c = update_weights(X, y, m, c, learning_rate)\n",
    "        cost = cost_function(X, y, m, c)\n",
    "        cost_history[i] = abs(cost)      \n",
    "        if i % (epochs/10) == 0:\n",
    "            print('Weight: {:+.2f}, Bias: {:+.2f} Cost: {:+.2f}. Epochs: {}'.format(m, c, cost, i))\n",
    "# #     display_model_cost(cost_history)\n",
    "    return cost, cost_history\n",
    "    \n",
    "m = 3\n",
    "c = 1\n",
    "print('Making Data with the following Linear Equation: y = {}x + {}'.format(m,c))\n",
    "X,y = make_data(n=10, m=m, c=c)\n",
    "display_model_and_regression(X,y,m,c)\n",
    "    \n",
    "lowest_cost, cost_history = gradient_descent(X, y)\n",
    "display_model_cost(cost_history)\n"
   ]
  },
  {
   "cell_type": "code",
   "execution_count": 145,
   "metadata": {},
   "outputs": [
    {
     "name": "stdout",
     "output_type": "stream",
     "text": [
      "Grid Search Complete, 81 Loops\n",
      "lowest Cost: (100, 0.0001, {0: 3594.554497940243, 1: 427.00970729966735, 2: 54.023412922620835, 3: 10.103177578697858, 4: 4.9312709602037135, 5: 4.322074300569971, 6: 4.250147854125365, 7: 4.241486301360108, 8: 4.240274363167746, 9: 4.239939654694498, 10: 4.239708261638545, 11: 4.239489053706746, 12: 4.239271300083488, 13: 4.239053737187188, 14: 4.23883621622605, 15: 4.238618719677456, 16: 4.2384012454762, 17: 4.238183793377028, 18: 4.237966363349134, 19: 4.237748955386912, 20: 4.237531569487683, 21: 4.237314205649234, 22: 4.237096863869262, 23: 4.2368795441455465, 24: 4.23666224647584, 25: 4.2364449708579155, 26: 4.236227717289551, 27: 4.236010485768473, 28: 4.235793276292467, 29: 4.235576088859291, 30: 4.235358923466708, 31: 4.235141780112495, 32: 4.234924658794369, 33: 4.234707559510153, 34: 4.234490482257585, 35: 4.234273427034418, 36: 4.234056393838435, 37: 4.233839382667385, 38: 4.233622393519019, 39: 4.233405426391154, 40: 4.233188481281511, 41: 4.232971558187888, 42: 4.232754657107999, 43: 4.232537778039688, 44: 4.232320920980639, 45: 4.2321040859286585, 46: 4.231887272881518, 47: 4.231670481836993, 48: 4.231453712792812, 49: 4.23123696574676, 50: 4.231020240696647, 51: 4.230803537640154, 52: 4.230586856575143, 53: 4.230370197499315, 54: 4.230153560410456, 55: 4.229936945306344, 56: 4.229720352184757, 57: 4.229503781043436, 58: 4.22928723188016, 59: 4.22907070469272, 60: 4.228854199478864, 61: 4.228637716236369, 62: 4.228421254963003, 63: 4.228204815656514, 64: 4.227988398314733, 65: 4.227772002935385, 66: 4.227555629516241, 67: 4.227339278055107, 68: 4.227122948549703, 69: 4.226906640997832, 70: 4.226690355397264, 71: 4.226474091745768, 72: 4.226257850041119, 73: 4.226041630281075, 74: 4.225825432463449, 75: 4.225609256585986, 76: 4.225393102646448, 77: 4.225176970642599, 78: 4.224960860572273, 79: 4.224744772433189, 80: 4.224528706223145, 81: 4.224312661939926, 82: 4.224096639581275, 83: 4.223880639144967, 84: 4.223664660628805, 85: 4.2234487040305595, 86: 4.2232327693480025, 87: 4.2230168565788935, 88: 4.222800965721027, 89: 4.222585096772189, 90: 4.222369249730119, 91: 4.22215342459262, 92: 4.221937621357473, 93: 4.221721840022444, 94: 4.221506080585314, 95: 4.2212903430438695, 96: 4.2210746273958515, 97: 4.220858933639094, 98: 4.220643261771354, 99: 4.220427611790376, 100: 4.220211983693994, 101: 4.219996377479947, 102: 4.2197807931460245, 103: 4.219565230690007, 104: 4.219349690109697, 105: 4.219134171402855, 106: 4.218918674567236, 107: 4.218703199600651, 108: 4.218487746500883, 109: 4.218272315265696, 110: 4.218056905892893, 111: 4.2178415183802285, 112: 4.217626152725491, 113: 4.217410808926502, 114: 4.217195486980987, 115: 4.216980186886734, 116: 4.216764908641566, 117: 4.21654965224324, 118: 4.216334417689534, 119: 4.216119204978259, 120: 4.215904014107144, 121: 4.215688845074031, 122: 4.215473697876676, 123: 4.215258572512859, 124: 4.21504346898037, 125: 4.214828387277031, 126: 4.214613327400539, 127: 4.214398289348773, 128: 4.214183273119454, 129: 4.213968278710404, 130: 4.213753306119387, 131: 4.213538355344193, 132: 4.213323426382608, 133: 4.21310851923243, 134: 4.212893633891423, 135: 4.2126787703574085, 136: 4.2124639286281385, 137: 4.212249108701423, 138: 4.212034310575049, 139: 4.211819534246777, 140: 4.211604779714423, 141: 4.211390046975762, 142: 4.211175336028597, 143: 4.210960646870698, 144: 4.210745979499878, 145: 4.210531333913874, 146: 4.21031671011056, 147: 4.210102108087644, 148: 4.209887527842956, 149: 4.209672969374266, 150: 4.209458432679408, 151: 4.209243917756121, 152: 4.2090294246022, 153: 4.208814953215457, 154: 4.208600503593698, 155: 4.2083860757346825, 156: 4.208171669636218, 157: 4.207957285296071, 158: 4.207742922712071, 159: 4.2075285818819905, 160: 4.207314262803636, 161: 4.207099965474767, 162: 4.206885689893215, 163: 4.2066714360567365, 164: 4.206457203963159, 165: 4.206242993610264, 166: 4.206028804995817, 167: 4.20581463811768, 168: 4.205600492973538, 169: 4.205386369561297, 170: 4.205172267878718, 171: 4.204958187923549, 172: 4.204744129693653, 173: 4.204530093186765, 174: 4.204316078400712, 175: 4.2041020853332975, 176: 4.203888113982314, 177: 4.203674164345526, 178: 4.203460236420766, 179: 4.20324633020581, 180: 4.203032445698484, 181: 4.2028185828965245, 182: 4.202604741797788, 183: 4.202390922400059, 184: 4.202177124701123, 185: 4.2019633486987935, 186: 4.20174959439085, 187: 4.201535861775071, 188: 4.201322150849319, 189: 4.201108461611363, 190: 4.200894794058971, 191: 4.200681148189966, 192: 4.2004675240021765, 193: 4.200253921493339, 194: 4.2000403406613165, 195: 4.199826781503878, 196: 4.199613244018828, 197: 4.199399728203942, 198: 4.19918623405707, 199: 4.198972761576007, 200: 4.198759310758501, 201: 4.198545881602409, 202: 4.198332474105496, 203: 4.198119088265613, 204: 4.1979057240805, 205: 4.197692381547983, 206: 4.1974790606659065, 207: 4.197265761432006, 208: 4.197052483844117, 209: 4.196839227900074, 210: 4.19662599359761, 211: 4.196412780934583, 212: 4.1961995899087965, 213: 4.195986420518034, 214: 4.195773272760083, 215: 4.195560146632798, 216: 4.195347042133934, 217: 4.195133959261323, 218: 4.194920898012776, 219: 4.194707858386075, 220: 4.194494840379075, 221: 4.194281843989511, 222: 4.19406886921524, 223: 4.19385591605405, 224: 4.1936429845037235, 225: 4.193430074562142, 226: 4.1932171862270335, 227: 4.193004319496257, 228: 4.192791474367603, 229: 4.192578650838869, 230: 4.192365848907836, 231: 4.192153068572378, 232: 4.191940309830276, 233: 4.191727572679321, 234: 4.191514857117358, 235: 4.191302163142155, 236: 4.191089490751552, 237: 4.190876839943329, 238: 4.190664210715323, 239: 4.190451603065324, 240: 4.190239016991171, 241: 4.190026452490641, 242: 4.189813909561561, 243: 4.1896013882017495, 244: 4.189388888409021, 245: 4.189176410181158, 246: 4.1889639535159935, 247: 4.188751518411328, 248: 4.188539104864975, 249: 4.188326712874768, 250: 4.1881143424384994, 251: 4.187901993553956, 252: 4.187689666219013, 253: 4.187477360431459, 254: 4.18726507618907, 255: 4.1870528134897125, 256: 4.186840572331142, 257: 4.18662835271126, 258: 4.18641615462777, 259: 4.186203978078598, 260: 4.185991823061469, 261: 4.185779689574258, 262: 4.185567577614724, 263: 4.185355487180738, 264: 4.18514341827007, 265: 4.184931370880579, 266: 4.18471934501007, 267: 4.184507340656322, 268: 4.184295357817201, 269: 4.184083396490455, 270: 4.183871456673993, 271: 4.183659538365563, 272: 4.183447641563028, 273: 4.183235766264162, 274: 4.183023912466793, 275: 4.182812080168789, 276: 4.182600269367886, 277: 4.18238848006196, 278: 4.182176712248824, 279: 4.181964965926299, 280: 4.181753241092156, 281: 4.181541537744287, 282: 4.181329855880444, 283: 4.18111819549849, 284: 4.180906556596243, 285: 4.1806949391715, 286: 4.180483343222098, 287: 4.180271768745853, 288: 4.180060215740595, 289: 4.179848684204145, 290: 4.179637174134298, 291: 4.179425685528886, 292: 4.179214218385776, 293: 4.1790027727027175, 294: 4.178791348477578, 295: 4.178579945708172, 296: 4.178368564392333, 297: 4.178157204527855, 298: 4.1779458661125854, 299: 4.177734549144324, 300: 4.177523253620922, 301: 4.1773119795402005, 302: 4.177100726899947, 303: 4.176889495698039, 304: 4.176678285932254, 305: 4.176467097600428, 306: 4.176255930700419, 307: 4.176044785230036, 308: 4.175833661187079, 309: 4.175622558569383, 310: 4.175411477374783, 311: 4.175200417601125, 312: 4.174989379246196, 313: 4.1747783623078405, 314: 4.174567366783883, 315: 4.174356392672146, 316: 4.174145439970468, 317: 4.1739345086766635, 318: 4.173723598788582, 319: 4.173512710304037, 320: 4.173301843220852, 321: 4.1730909975368435, 322: 4.172880173249881, 323: 4.17266937035775, 324: 4.172458588858284, 325: 4.172247828749341, 326: 4.172037090028733, 327: 4.171826372694292, 328: 4.171615676743855, 329: 4.171405002175205, 330: 4.171194348986242, 331: 4.170983717174771, 332: 4.1707731067386025, 333: 4.170562517675572, 334: 4.17035194998352, 335: 4.170141403660284, 336: 4.169930878703682, 337: 4.1697203751115595, 338: 4.169509892881756, 339: 4.169299432012062, 340: 4.1690889925003605, 341: 4.168878574344419, 342: 4.168668177542163, 343: 4.168457802091337, 344: 4.168247447989833, 345: 4.168037115235441, 346: 4.167826803826032, 347: 4.167616513759423, 348: 4.167406245033435, 349: 4.167195997645942, 350: 4.166985771594733, 351: 4.166775566877648, 352: 4.1665653834925545, 353: 4.166355221437275, 354: 4.166145080709626, 355: 4.1659349613074825, 356: 4.165724863228644, 357: 4.165514786470949, 358: 4.165304731032223, 359: 4.165094696910341, 360: 4.164884684103136, 361: 4.1646746926084015, 362: 4.164464722424019, 363: 4.164254773547805, 364: 4.164044845977607, 365: 4.163834939711245, 366: 4.16362505474659, 367: 4.163415191081424, 368: 4.163205348713645, 369: 4.162995527641072, 370: 4.162785727861531, 371: 4.162575949372863, 372: 4.162366192172906, 373: 4.162156456259529, 374: 4.161946741630551, 375: 4.161737048283821, 376: 4.161527376217132, 377: 4.161317725428394, 378: 4.161108095915396, 379: 4.16089848767599, 380: 4.160688900708067, 381: 4.160479335009401, 382: 4.16026979057786, 383: 4.16006026741129, 384: 4.159850765507521, 385: 4.159641284864404, 386: 4.159431825479802, 387: 4.159222387351495, 388: 4.159012970477399, 389: 4.158803574855321, 390: 4.158594200483081, 391: 4.158384847358573, 392: 4.1581755154796145, 393: 4.157966204844052, 394: 4.157756915449732, 395: 4.157547647294489, 396: 4.157338400376186, 397: 4.157129174692643, 398: 4.156919970241724, 399: 4.1567107870212885, 400: 4.156501625029142, 401: 4.1562924842631706, 402: 4.156083364721185, 403: 4.155874266401039, 404: 4.155665189300603, 405: 4.155456133417703, 406: 4.1552470987501815, 407: 4.1550380852959234, 408: 4.154829093052735, 409: 4.154620122018445, 410: 4.1544111721909704, 411: 4.154202243568086, 412: 4.1539933361477095, 413: 4.153784449927625, 414: 4.153575584905734, 415: 4.153366741079857, 416: 4.153157918447834, 417: 4.152949117007525, 418: 4.152740336756827, 419: 4.152531577693494, 420: 4.152322839815436, 421: 4.1521141231205085, 422: 4.151905427606559, 423: 4.1516967532713895, 424: 4.151488100112899, 425: 4.151279468128947, 426: 4.151070857317345, 427: 4.150862267675983, 428: 4.150653699202681, 429: 4.150445151895278, 430: 4.150236625751697, 431: 4.150028120769716, 432: 4.14981963694723, 433: 4.149611174282066, 434: 4.149402732772101, 435: 4.149194312415165, 436: 4.148985913209143, 437: 4.148777535151852, 438: 4.1485691782411385, 439: 4.1483608424749026, 440: 4.148152527850977, 441: 4.147944234367215, 442: 4.147735962021474, 443: 4.147527710811598, 444: 4.14731948073545, 445: 4.1471112717909016, 446: 4.146903083975762, 447: 4.146694917287944, 448: 4.1464867717252565, 449: 4.146278647285573, 450: 4.1460705439667755, 451: 4.145862461766682, 452: 4.1456544006831795, 453: 4.145446360714098, 454: 4.145238341857315, 455: 4.145030344110674, 456: 4.144822367472036, 457: 4.144614411939262, 458: 4.144406477510199, 459: 4.144198564182734, 460: 4.143990671954698, 461: 4.143782800823984, 462: 4.143574950788408, 463: 4.143367121845839, 464: 4.14315931399416, 465: 4.142951527231202, 466: 4.142743761554858, 467: 4.142536016962952, 468: 4.142328293453378, 469: 4.1421205910239625, 470: 4.141912909672583, 471: 4.141705249397119, 472: 4.141497610195384, 473: 4.141289992065296, 474: 4.141082395004688, 475: 4.140874819011404, 476: 4.14066726408335, 477: 4.140459730218362, 478: 4.140252217414295, 479: 4.140044725669003, 480: 4.139837254980382, 481: 4.139629805346309, 482: 4.139422376764589, 483: 4.139214969233097, 484: 4.1390075827497625, 485: 4.13880021731237, 486: 4.13859287291883, 487: 4.13838554956698, 488: 4.138178247254679, 489: 4.137970965979853, 490: 4.137763705740297, 491: 4.137556466533905, 492: 4.137349248358538, 493: 4.137142051212075, 494: 4.136934875092388, 495: 4.136727719997289, 496: 4.1365205859247105, 497: 4.136313472872479, 498: 4.136106380838462, 499: 4.135899309820558, 500: 4.135692259816596, 501: 4.1354852308244725, 502: 4.135278222842036, 503: 4.135071235867172, 504: 4.134864269897738, 505: 4.134657324931585, 506: 4.134450400966617, 507: 4.134243498000699, 508: 4.134036616031659, 509: 4.133829755057406, 510: 4.1336229150757955, 511: 4.13341609608471, 512: 4.133209298081977, 513: 4.133002521065522, 514: 4.132795765033189, 515: 4.1325890299828645, 516: 4.132382315912389, 517: 4.132175622819652, 518: 4.131968950702502, 519: 4.131762299558846, 520: 4.131555669386544, 521: 4.131349060183483, 522: 4.131142471947476, 523: 4.130935904676464, 524: 4.130729358368265, 525: 4.130522833020793, 526: 4.130316328631924, 527: 4.1301098451994855, 528: 4.129903382721388, 529: 4.129696941195488, 530: 4.129490520619662, 531: 4.129284120991809, 532: 4.129077742309745, 533: 4.128871384571409, 534: 4.128665047774637, 535: 4.1284587319173305, 536: 4.128252436997336, 537: 4.128046163012549, 538: 4.127839909960836, 539: 4.1276336778400555, 540: 4.127427466648126, 541: 4.127221276382874, 542: 4.1270151070422285, 543: 4.126808958624026, 544: 4.126602831126168, 545: 4.126396724546486, 546: 4.126190638882929, 547: 4.125984574133314, 548: 4.125778530295546, 549: 4.12557250736752, 550: 4.1253665053470545, 551: 4.125160524232091, 552: 4.124954564020463, 553: 4.12474862471008, 554: 4.124542706298806, 555: 4.1243368087845225, 556: 4.124130932165099, 557: 4.123925076438445, 558: 4.123719241602401, 559: 4.123513427654878, 560: 4.123307634593761, 561: 4.123101862416877, 562: 4.122896111122159, 563: 4.122690380707487, 564: 4.122484671170722, 565: 4.122278982509745, 566: 4.122073314722454, 567: 4.121867667806706, 568: 4.121662041760393, 569: 4.121456436581414, 570: 4.121250852267649, 571: 4.121045288816961, 572: 4.120839746227234, 573: 4.120634224496343, 574: 4.1204287236222275, 575: 4.120223243602711, 576: 4.1200177844356975, 577: 4.119812346119068, 578: 4.119606928650706, 579: 4.119401532028503, 580: 4.119196156250334, 581: 4.1189908013140775, 582: 4.118785467217665, 583: 4.1185801539589155, 584: 4.118374861535761, 585: 4.118169589946065, 586: 4.117964339187711, 587: 4.117759109258589, 588: 4.117553900156628, 589: 4.117348711879628, 590: 4.1171435444255335, 591: 4.116938397792256, 592: 4.1167332719776075, 593: 4.11652816697955, 594: 4.116323082795919, 595: 4.116118019424616, 596: 4.115912976863538, 597: 4.115707955110583, 598: 4.1155029541636035, 599: 4.115297974020515, 600: 4.1150930146792, 601: 4.114888076137546, 602: 4.114683158393446, 603: 4.114478261444803, 604: 4.114273385289462, 605: 4.114068529925346, 606: 4.1138636953503465, 607: 4.113658881562355, 608: 4.113454088559264, 609: 4.113249316338965, 610: 4.113044564899314, 611: 4.112839834238228, 612: 4.1126351243535915, 613: 4.1124304352433185, 614: 4.112225766905277, 615: 4.112021119337368, 616: 4.1118164925374865, 617: 4.111611886503525, 618: 4.111407301233357, 619: 4.111202736724898, 620: 4.110998192976036, 621: 4.110793669984656, 622: 4.11058916774865, 623: 4.1103846862659275, 624: 4.110180225534386, 625: 4.109975785551898, 626: 4.109771366316365, 627: 4.10956696782568, 628: 4.109362590077745, 629: 4.109158233070454, 630: 4.1089538968017, 631: 4.1087495812693815, 632: 4.108545286471368, 633: 4.108341012405615, 634: 4.108136759069961, 635: 4.107932526462321, 636: 4.107728314580612, 637: 4.10752412342268, 638: 4.107319952986473, 639: 4.10711580326988, 640: 4.106911674270765, 641: 4.10670756598705, 642: 4.106503478416658, 643: 4.106299411557447, 644: 4.106095365407302, 645: 4.105891339964161, 646: 4.105687335225941, 647: 4.105483351190476, 648: 4.105279387855689, 649: 4.105075445219506, 650: 4.104871523279814, 651: 4.104667622034491, 652: 4.104463741481479, 653: 4.104259881618623, 654: 4.104056042443875, 655: 4.10385222395511, 656: 4.103648426150208, 657: 4.103444649027117, 658: 4.103240892583722, 659: 4.103037156817897, 660: 4.102833441727582, 661: 4.102629747310645, 662: 4.102426073564998, 663: 4.102222420488577, 664: 4.102018788079223, 665: 4.101815176334888, 666: 4.101611585253486, 667: 4.101408014832854, 668: 4.10120446507094, 669: 4.101000935965658, 670: 4.100797427514884, 671: 4.100593939716541, 672: 4.100390472568519, 673: 4.1001870260687445, 674: 4.0999836002150944, 675: 4.0997801950054775, 676: 4.099576810437813, 677: 4.099373446510011, 678: 4.099170103219952, 679: 4.098966780565564, 680: 4.098763478544734, 681: 4.098560197155396, 682: 4.09835693639544, 683: 4.098153696262748, 684: 4.097950476755263, 685: 4.097747277870877, 686: 4.097544099607503, 687: 4.097340941963057, 688: 4.0971378049354215, 689: 4.096934688522512, 690: 4.096731592722249, 691: 4.096528517532538, 692: 4.096325462951266, 693: 4.096122428976381, 694: 4.09591941560574, 695: 4.095716422837284, 696: 4.095513450668945, 697: 4.095310499098597, 698: 4.09510756812415, 699: 4.094904657743526, 700: 4.094701767954629, 701: 4.094498898755398, 702: 4.094296050143688, 703: 4.094093222117454, 704: 4.093890414674571, 705: 4.093687627812998, 706: 4.093484861530632, 707: 4.093282115825352, 708: 4.093079390695074, 709: 4.092876686137754, 710: 4.092674002151277, 711: 4.092471338733537, 712: 4.0922686958824785, 713: 4.092066073595985, 714: 4.09186347187201, 715: 4.091660890708428, 716: 4.091458330103169, 717: 4.091255790054144, 718: 4.0910532705592795, 719: 4.090850771616448, 720: 4.090648293223607, 721: 4.090445835378667, 722: 4.09024339807954, 723: 4.090040981324124, 724: 4.089838585110336, 725: 4.089636209436105, 726: 4.0894338542993465, 727: 4.089231519697957, 728: 4.089029205629886, 729: 4.0888269120930225, 730: 4.0886246390852925, 731: 4.088422386604605, 732: 4.088220154648884, 733: 4.088017943216052, 734: 4.087815752304014, 735: 4.087613581910697, 736: 4.087411432034018, 737: 4.087209302671877, 738: 4.087007193822224, 739: 4.086805105482943, 740: 4.086603037651985, 741: 4.086400990327264, 742: 4.08619896350666, 743: 4.085996957188123, 744: 4.0857949713696, 745: 4.085593006048948, 746: 4.085391061224147, 747: 4.085189136893081, 748: 4.084987233053678, 749: 4.084785349703859, 750: 4.0845834868415345, 751: 4.08438164446465, 752: 4.084179822571101, 753: 4.083978021158833, 754: 4.083776240225759, 755: 4.083574479769791, 756: 4.083372739788858, 757: 4.08317102028087, 758: 4.082969321243767, 759: 4.082767642675461, 760: 4.082565984573881, 761: 4.082364346936943, 762: 4.082162729762607, 763: 4.081961133048731, 764: 4.081759556793271, 765: 4.081558000994179, 766: 4.081356465649322, 767: 4.081154950756667, 768: 4.080953456314143, 769: 4.0807519823196285, 770: 4.080550528771082, 771: 4.080349095666426, 772: 4.0801476830036, 773: 4.079946290780486, 774: 4.079744918995057, 775: 4.079543567645227, 776: 4.07934223672889, 777: 4.079140926244014, 778: 4.078939636188487, 779: 4.078738366560256, 780: 4.078537117357277, 781: 4.078335888577441, 782: 4.078134680218668, 783: 4.077933492278908, 784: 4.077732324756098, 785: 4.077531177648131, 786: 4.077330050952955, 787: 4.077128944668487, 788: 4.076927858792695, 789: 4.0767267933234645, 790: 4.07652574825874, 791: 4.076324723596452, 792: 4.076123719334517, 793: 4.075922735470896, 794: 4.075721772003474, 795: 4.0755208289302205, 796: 4.075319906249063, 797: 4.075119003957902, 798: 4.0749181220546795, 799: 4.074717260537358, 800: 4.074516419403826, 801: 4.0743155986520225, 802: 4.074114798279939, 803: 4.073914018285407, 804: 4.073713258666433, 805: 4.073512519420902, 806: 4.073311800546801, 807: 4.073111102042034, 808: 4.072910423904526, 809: 4.072709766132199, 810: 4.072509128723016, 811: 4.072308511674889, 812: 4.072107914985773, 813: 4.071907338653583, 814: 4.071706782676261, 815: 4.07150624705174, 816: 4.071305731777959, 817: 4.071105236852823, 818: 4.070904762274327, 819: 4.07070430804036, 820: 4.070503874148864, 821: 4.070303460597778, 822: 4.070103067385051, 823: 4.069902694508596, 824: 4.06970234196637, 825: 4.069502009756285, 826: 4.069301697876302, 827: 4.069101406324359, 828: 4.0689011350983755, 829: 4.068700884196292, 830: 4.068500653616042, 831: 4.068300443355563, 832: 4.0681002534128305, 833: 4.067900083785739, 834: 4.067699934472231, 835: 4.06749980547028, 836: 4.06729969677778, 837: 4.0670996083927085, 838: 4.066899540312956, 839: 4.066699492536511, 840: 4.066499465061289, 841: 4.066299457885261, 842: 4.066099471006307, 843: 4.065899504422403, 844: 4.065699558131508, 845: 4.065499632131528, 846: 4.065299726420398, 847: 4.065099840996124, 848: 4.064899975856562, 849: 4.06470013099973, 850: 4.064500306423499, 851: 4.064300502125864, 852: 4.064100718104739, 853: 4.063900954358065, 854: 4.063701210883822, 855: 4.063501487679922, 856: 4.063301784744294, 857: 4.0631021020749065, 858: 4.062902439669696, 859: 4.062702797526605, 860: 4.062503175643574, 861: 4.062303574018566, 862: 4.062103992649487, 863: 4.061904431534315, 864: 4.061704890670979, 865: 4.061505370057444, 866: 4.061305869691618, 867: 4.061106389571485, 868: 4.060906929694964, 869: 4.060707490060012, 870: 4.0605080706645715, 871: 4.060308671506593, 872: 4.060109292584011, 873: 4.0599099338947795, 874: 4.059710595436854, 875: 4.05951127720816, 876: 4.059311979206686, 877: 4.059112701430337, 878: 4.058913443877062, 879: 4.058714206544843, 880: 4.058514989431595, 881: 4.05831579253528, 882: 4.058116615853835, 883: 4.05791745938522, 884: 4.057718323127386, 885: 4.05751920707827, 886: 4.057320111235854, 887: 4.057121035598031, 888: 4.056921980162791, 889: 4.056722944928064, 890: 4.056523929891833, 891: 4.056324935052001, 892: 4.0561259604065665, 893: 4.0559270059534605, 894: 4.055728071690607, 895: 4.055529157616006, 896: 4.055330263727554, 897: 4.055131390023242, 898: 4.054932536501005, 899: 4.054733703158818, 900: 4.054534889994606, 901: 4.05433609700631, 902: 4.0541373241919345, 903: 4.053938571549377, 904: 4.053739839076652, 905: 4.053541126771649, 906: 4.053342434632345, 907: 4.0531437626567115, 908: 4.05294511084267, 909: 4.052746479188198, 910: 4.052547867691236, 911: 4.052349276349757, 912: 4.05215070516169, 913: 4.051952154125019, 914: 4.051753623237683, 915: 4.051555112497626, 916: 4.051356621902819, 917: 4.051158151451224, 918: 4.05095970114078, 919: 4.0507612709694625, 920: 4.050562860935191, 921: 4.050364471035952, 922: 4.050166101269715, 923: 4.049967751634413, 924: 4.049769422127998, 925: 4.0495711127484375, 926: 4.049372823493682, 927: 4.0491745543617155, 928: 4.048976305350472, 929: 4.048778076457921, 930: 4.048579867682009, 931: 4.048381679020689, 932: 4.048183510471918, 933: 4.047985362033697, 934: 4.047787233703947, 935: 4.047589125480624, 936: 4.0473910373616935, 937: 4.047192969345144, 938: 4.0469949214289045, 939: 4.046796893610942, 940: 4.046598885889211, 941: 4.046400898261691, 942: 4.046202930726339, 943: 4.046004983281107, 944: 4.045807055923919, 945: 4.045609148652826, 946: 4.045411261465712, 947: 4.045213394360577, 948: 4.045015547335333, 949: 4.044817720388022, 950: 4.044619913516544, 951: 4.044422126718892, 952: 4.044224359993007, 953: 4.044026613336888, 954: 4.043828886748465, 955: 4.043631180225697, 956: 4.043433493766578, 957: 4.043235827369038, 958: 4.043038181031086, 959: 4.042840554750643, 960: 4.042642948525683, 961: 4.042445362354209, 962: 4.042247796234139, 963: 4.0420502501634425, 964: 4.041852724140086, 965: 4.041655218162062, 966: 4.0414577322273155, 967: 4.041260266333825, 968: 4.041062820479525, 969: 4.040865394662427, 970: 4.040667988880463, 971: 4.040470603131635, 972: 4.040273237413876, 973: 4.040075891725142, 974: 4.039878566063433, 975: 4.039681260426724, 976: 4.039483974812956, 977: 4.039286709220118, 978: 4.03908946364614, 979: 4.038892238089034, 980: 4.038695032546753, 981: 4.03849784701725, 982: 4.038300681498538, 983: 4.0381035359885225, 984: 4.03790641048522, 985: 4.037709304986585, 986: 4.037512219490605, 987: 4.03731515399522, 988: 4.037118108498408, 989: 4.036921082998174, 990: 4.036724077492448, 991: 4.036527091979208, 992: 4.0363301264564315, 993: 4.0361331809220875, 994: 4.035936255374167, 995: 4.035739349810625, 996: 4.035542464229417, 997: 4.035345598628552, 998: 4.035148753005949, 999: 4.034951927359645})\n"
     ]
    }
   ],
   "source": [
    "def grid_search(X,y, min_learning_rate=0.0001, max_learning_rate=0.001, min_epochs=10, max_epochs=100):\n",
    "    '''\n",
    "    Simple Grid search to show how learning rates and epochs change the costs identified.\n",
    "    '''\n",
    "    \n",
    "    costs = []\n",
    "    lr_step = min_learning_rate\n",
    "    epoch_steps = 10\n",
    "    \n",
    "    lr = min_learning_rate\n",
    "    \n",
    "    loops = 0\n",
    "    while lr < max_learning_rate:\n",
    "        \n",
    "        epoch = min_epochs\n",
    "        while epoch < max_epochs:   \n",
    "            cost = gradient_descent(X, y)\n",
    "            costs.append((epoch,lr,cost))\n",
    "            \n",
    "            epoch += epoch_steps\n",
    "            loops += 1\n",
    "            \n",
    "        lr += lr_step\n",
    "        \n",
    "    print('Grid Search Complete, {} Loops'.format(loops))\n",
    "    lowest_cost = min(costs)\n",
    "    print('lowest Cost:',lowest_cost)\n",
    "    return costs\n",
    "\n",
    "costs = grid_search(X,y)"
   ]
  },
  {
   "cell_type": "code",
   "execution_count": null,
   "metadata": {},
   "outputs": [],
   "source": [
    "def display_grid_results(costs):\n",
    "    \n",
    "    epochs = [a_tuple[0] for a_tuple in costs]\n",
    "    lrs = [a_tuple[1] for a_tuple in costs]\n",
    "    cost = [a_tuple[2] for a_tuple in costs]\n",
    "    print(len(cost))\n",
    "    fig = plt.figure(figsize=(15,15))\n",
    "\n",
    "    ax = plt.axes(projection='3d')\n",
    "    ax.scatter3D(cost, lrs, epochs, cmap='Greens');\n",
    "    plt.show()\n",
    "    \n",
    "display_grid_results(costs)"
   ]
  },
  {
   "cell_type": "code",
   "execution_count": null,
   "metadata": {},
   "outputs": [],
   "source": []
  }
 ],
 "metadata": {
  "kernelspec": {
   "display_name": "Python 3",
   "language": "python",
   "name": "python3"
  },
  "language_info": {
   "codemirror_mode": {
    "name": "ipython",
    "version": 3
   },
   "file_extension": ".py",
   "mimetype": "text/x-python",
   "name": "python",
   "nbconvert_exporter": "python",
   "pygments_lexer": "ipython3",
   "version": "3.7.5"
  }
 },
 "nbformat": 4,
 "nbformat_minor": 4
}
